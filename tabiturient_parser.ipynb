{
 "cells": [
  {
   "cell_type": "code",
   "execution_count": 1,
   "id": "dda961af",
   "metadata": {},
   "outputs": [],
   "source": [
    "import requests\n",
    "\n",
    "from bs4 import BeautifulSoup\n",
    "\n",
    "import pandas as pd\n",
    "\n",
    "import numpy as np"
   ]
  },
  {
   "cell_type": "code",
   "execution_count": 16,
   "id": "877c85cb",
   "metadata": {},
   "outputs": [],
   "source": [
    "url = 'https://tabiturient.ru/vuzcost/'\n",
    "\n",
    "data = requests.get(url).text\n",
    "\n",
    "soup = BeautifulSoup(data, 'html.parser')\n"
   ]
  },
  {
   "cell_type": "markdown",
   "id": "0ea112b4",
   "metadata": {},
   "source": [
    "## Получение ссылок на страницу вуза"
   ]
  },
  {
   "cell_type": "code",
   "execution_count": 20,
   "id": "8777e73b",
   "metadata": {},
   "outputs": [],
   "source": [
    "uni_links = soup.find('div', {'class': 'obramtop100'}).find_all('a')\n",
    "\n",
    "links = [i['href'] for i in uni_links]"
   ]
  },
  {
   "cell_type": "markdown",
   "id": "3c785cac",
   "metadata": {},
   "source": [
    "## Получение средней стоимости обучения\n"
   ]
  },
  {
   "cell_type": "code",
   "execution_count": 31,
   "id": "8aa125fd",
   "metadata": {},
   "outputs": [],
   "source": [
    "gen_info = []\n",
    "for i in uni_links:\n",
    "    gen_info.append([j.text for j in i.find('table', {'class': 'listtop100'}).find_all('td')])"
   ]
  },
  {
   "cell_type": "code",
   "execution_count": 32,
   "id": "919f744b",
   "metadata": {},
   "outputs": [],
   "source": [
    "gen_info = [i[-2] for i in gen_info]"
   ]
  },
  {
   "cell_type": "code",
   "execution_count": 34,
   "id": "43535d41",
   "metadata": {},
   "outputs": [],
   "source": [
    "gen_prices = [int((i.replace('руб./год', '')).replace(' ','')) for i in gen_info]"
   ]
  },
  {
   "cell_type": "markdown",
   "id": "91f9ecfe",
   "metadata": {},
   "source": [
    "## Получение ссылок на инфу об общежитиях вуза"
   ]
  },
  {
   "cell_type": "code",
   "execution_count": 37,
   "id": "0f1d5010",
   "metadata": {},
   "outputs": [],
   "source": [
    "links = [i.replace('proxodnoi', 'about') for i in links]"
   ]
  },
  {
   "cell_type": "code",
   "execution_count": 76,
   "id": "568f9c0b",
   "metadata": {},
   "outputs": [],
   "source": [
    "links_dorm = [i.replace('about', 'obsh') for i in links]"
   ]
  },
  {
   "cell_type": "code",
   "execution_count": 39,
   "id": "203a63ac",
   "metadata": {},
   "outputs": [],
   "source": [
    "first_url = 'https://tabiturient.ru/vuzu/mgimo/about/'\n",
    "\n",
    "data1 = requests.get(first_url).text\n",
    "\n",
    "soup1 = BeautifulSoup(data1, 'html.parser')"
   ]
  },
  {
   "cell_type": "markdown",
   "id": "b4530f8c",
   "metadata": {},
   "source": [
    "## Функция для получения наименований вуза\n"
   ]
  },
  {
   "cell_type": "code",
   "execution_count": 151,
   "id": "29be2569",
   "metadata": {},
   "outputs": [],
   "source": [
    "def find_names(soup):\n",
    "    try:\n",
    "        names = [j.text for j in soup.find('div' ,{'class': 'p40 pm40 obram obramvuz1'}).find_all('h2', {'class': 'font4m fontshadow'})]\n",
    "        return names\n",
    "    except Exception:\n",
    "        return [np.nan]*2\n",
    "    "
   ]
  },
  {
   "cell_type": "markdown",
   "id": "fb196c91",
   "metadata": {},
   "source": [
    "## Функция для получения локации вуза"
   ]
  },
  {
   "cell_type": "code",
   "execution_count": 136,
   "id": "38c4d906",
   "metadata": {},
   "outputs": [],
   "source": [
    "def get_location(soup):\n",
    "    try:\n",
    "        location = [j.text for j in soup.find('div' ,{'class': 'p40 pm40 obram obramvuz1'}).find_all('b', {'class': 'font1'})]\n",
    "        return [location[0]]\n",
    "    except Exception:\n",
    "        return [np.nan]\n",
    "    "
   ]
  },
  {
   "cell_type": "markdown",
   "id": "04a3a3af",
   "metadata": {},
   "source": [
    "## Функция для получения информации о структуре вуза"
   ]
  },
  {
   "cell_type": "code",
   "execution_count": 135,
   "id": "7f4e67c0",
   "metadata": {},
   "outputs": [],
   "source": [
    "def get_structur(soup):\n",
    "    try:\n",
    "        struc = [j.text for j in soup.find('div', {'class': 'p20 obram'}).find_all('b', {'class': 'font5'})]\n",
    "    \n",
    "        return struc[:-2]\n",
    "    except Exception:\n",
    "        return [np.nan] * 4\n",
    "        "
   ]
  },
  {
   "cell_type": "markdown",
   "id": "0493f192",
   "metadata": {},
   "source": [
    "## Функция для получения оценок студентов различных показателей"
   ]
  },
  {
   "cell_type": "code",
   "execution_count": 163,
   "id": "73d5acf7",
   "metadata": {},
   "outputs": [],
   "source": [
    "def get_marks(soup):\n",
    "    try:\n",
    "        marks = [i.text for i in soup.find_all('div', {'class': 'cirdesc1-5'})]\n",
    "        \n",
    "        if len(marks) == 0:\n",
    "            return [np.nan] * 6\n",
    "        elif len(marks) == 6:\n",
    "            return marks\n",
    "    except Exception:\n",
    "        return [np.nan] * 6"
   ]
  },
  {
   "cell_type": "markdown",
   "id": "e0e12d15",
   "metadata": {},
   "source": [
    "## Функция для получения расходов"
   ]
  },
  {
   "cell_type": "code",
   "execution_count": 170,
   "id": "7c168eee",
   "metadata": {},
   "outputs": [],
   "source": [
    "def get_expenses(soup):\n",
    "    try:\n",
    "        expenses =  [i.text for i in soup.find_all('b', {'class': 'font4'})]\n",
    "        if len(expenses) == 0:\n",
    "            return [np.nan] * 2\n",
    "        elif len(expenses) == 1:\n",
    "            return expenses + [np.nan]\n",
    "        elif len(expenses[:2]) == 2:\n",
    "            return expenses[:2]\n",
    "    except Exception:\n",
    "        return [np.nan] * 2"
   ]
  },
  {
   "cell_type": "markdown",
   "id": "4723f02b",
   "metadata": {},
   "source": [
    "## Функция для получения рейтинга"
   ]
  },
  {
   "cell_type": "code",
   "execution_count": 132,
   "id": "ac332472",
   "metadata": {},
   "outputs": [],
   "source": [
    "def get_rating(soup):\n",
    "    try:\n",
    "        rating = [i.text for i in soup.find('td', {'class': 'ocenka'}).find_all('b', {'class': 'font5'})]\n",
    "    \n",
    "        return rating\n",
    "    except Exception:\n",
    "        return [np.nan]"
   ]
  },
  {
   "cell_type": "markdown",
   "id": "9f78bf09",
   "metadata": {},
   "source": [
    "## Функция для приготовления супа"
   ]
  },
  {
   "cell_type": "code",
   "execution_count": 75,
   "id": "08f9acff",
   "metadata": {},
   "outputs": [],
   "source": [
    "def get_soup(link):\n",
    "    data = requests.get(link).text\n",
    "    \n",
    "    soup = BeautifulSoup(data, 'html.parser')\n",
    "    \n",
    "    return soup"
   ]
  },
  {
   "cell_type": "code",
   "execution_count": 115,
   "id": "6858ab49",
   "metadata": {},
   "outputs": [],
   "source": [
    "df = pd.DataFrame({'Name': [], 'brief_name': [], 'location': [], 'num_subject': [], 'num_educat_prog': [], 'num_budget_pla': [], 'aver_score_for_bugd': [], 'universities_conditions': [], 'locations_availibility': [], 'educ_quality': [], 'administration_qual': [], 'rat_add_activities': [], 'food_quality': [], 'lunch_price': [], 'road_costs_per_month': [], 'av_price_for_educ': [],'Dorm': [], 'Dorm_rating': []})"
   ]
  },
  {
   "cell_type": "code",
   "execution_count": 125,
   "id": "a5c9f54c",
   "metadata": {},
   "outputs": [],
   "source": [
    "def get_dorm(url):\n",
    "    data = requests.get(url).text\n",
    "    \n",
    "    soup = BeautifulSoup(data, 'html.parser')\n",
    "    \n",
    "    info = [i.text for i in soup.find('div', {'class': 'p40 pm40'}).find_all('b')]\n",
    "    \n",
    "    final = []\n",
    "    \n",
    "    if 'есть' in info[0]:\n",
    "        final.append('Yes')\n",
    "    else:\n",
    "        final.append('No')\n",
    "        \n",
    "    info[-1] = (info[-1].replace('/10', ''))\n",
    "    \n",
    "    try:\n",
    "        final.append(float(info[-1]))\n",
    "    except Exception:\n",
    "        final.append(np.nan)\n",
    "        \n",
    "\n",
    "    \n",
    "    return final"
   ]
  },
  {
   "cell_type": "code",
   "execution_count": 149,
   "id": "f84e6916",
   "metadata": {},
   "outputs": [],
   "source": [
    "def companate(url3, url4):\n",
    "    soup = get_soup(url3)\n",
    "    \n",
    "    \n",
    "    names = find_names(soup)\n",
    "    \n",
    "    location = get_location(soup)\n",
    "    \n",
    "    structure = get_structur(soup)\n",
    "    \n",
    "    marks = get_marks(soup)\n",
    "    \n",
    "    expenses = get_expenses(soup)\n",
    "    \n",
    "    rating = get_rating(soup)\n",
    "    \n",
    "    dorm = get_dorm(url4)\n",
    "    \n",
    "    final = names + location + structure + marks + expenses + rating + dorm\n",
    "    \n",
    "    return final"
   ]
  },
  {
   "cell_type": "code",
   "execution_count": null,
   "id": "22e2a26b",
   "metadata": {},
   "outputs": [],
   "source": [
    "for i,j in zip(links, links_dorm):\n",
    "    print(i)\n",
    "    df.loc[len(df)] = companate(i,j)"
   ]
  },
  {
   "cell_type": "code",
   "execution_count": null,
   "id": "934d54c0",
   "metadata": {},
   "outputs": [],
   "source": []
  }
 ],
 "metadata": {
  "hide_input": false,
  "kernelspec": {
   "display_name": "Python 3 (ipykernel)",
   "language": "python",
   "name": "python3"
  },
  "language_info": {
   "codemirror_mode": {
    "name": "ipython",
    "version": 3
   },
   "file_extension": ".py",
   "mimetype": "text/x-python",
   "name": "python",
   "nbconvert_exporter": "python",
   "pygments_lexer": "ipython3",
   "version": "3.9.12"
  }
 },
 "nbformat": 4,
 "nbformat_minor": 5
}
